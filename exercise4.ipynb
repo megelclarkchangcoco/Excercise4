{
  "cells": [
    {
      "cell_type": "markdown",
      "metadata": {
        "id": "cPRRjBOhHHMh"
      },
      "source": [
        "# Exercise 4\n",
        "\n",
        "Please follow the instructions in each number."
      ]
    },
    {
      "cell_type": "markdown",
      "metadata": {
        "id": "zvDTNWRFHHMk"
      },
      "source": [
        "### Activity Selection Problem\n",
        "\n",
        "Given a set of activities, along with the starting and finishing time of each activity, find the maximum number of activities performed by a single person assuming that a person can only work on a single activity at a time.\n",
        "\n",
        "For example,\n",
        "\n",
        "Input: Following set of activities (1, 4), (3, 5), (0, 6), (5, 7), (3, 8), (5, 9), (6, 10), (8, 11), (8, 12), (2, 13), (12, 14)  \n",
        "\n",
        "Output: (1, 4), (5, 7), (8, 11), (12, 14)"
      ]
    },
    {
      "cell_type": "markdown",
      "metadata": {
        "id": "ff7w7YLGHHMl"
      },
      "source": [
        "## Tasks"
      ]
    },
    {
      "cell_type": "markdown",
      "metadata": {
        "id": "0QLHdoNSHHMl"
      },
      "source": [
        "1. Write a program using a recursive greedy approach to get the maximum number of activities (`50 points`)"
      ]
    },
    {
      "cell_type": "code",
      "execution_count": 1,
      "metadata": {
        "vscode": {
          "languageId": "plaintext"
        },
        "id": "Xe02cHvAHHMl",
        "outputId": "d7271611-cc14-46fd-9b7f-84ef88877922",
        "colab": {
          "base_uri": "https://localhost:8080/"
        }
      },
      "outputs": [
        {
          "output_type": "stream",
          "name": "stdout",
          "text": [
            "Selected activities (recursive approach): [(1, 4), (5, 7), (8, 11), (12, 14)]\n"
          ]
        }
      ],
      "source": [
        "def recursive_activity_selection(activities, n, index):\n",
        "    # Base case: If there are no more activities left\n",
        "    if index >= n:\n",
        "        return []\n",
        "\n",
        "    # Find the first activity that starts after the current activity ends\n",
        "    next_activity = index + 1\n",
        "    while next_activity < n and activities[next_activity][0] < activities[index][1]:\n",
        "        next_activity += 1\n",
        "\n",
        "    # If no such activity is found, return the current activity\n",
        "    if next_activity >= n:\n",
        "        return [activities[index]]\n",
        "\n",
        "    # Include the current activity and recursively select the next activity\n",
        "    return [activities[index]] + recursive_activity_selection(activities, n, next_activity)\n",
        "\n",
        "def get_max_activities_recursive(activities):\n",
        "    # Sort activities by their finish time\n",
        "    sorted_activities = sorted(activities, key=lambda x: x[1])\n",
        "    return recursive_activity_selection(sorted_activities, len(sorted_activities), 0)\n",
        "\n",
        "# Example usage\n",
        "activities = [(1, 4), (3, 5), (0, 6), (5, 7), (3, 8), (5, 9), (6, 10), (8, 11), (8, 12), (2, 13), (12, 14)]\n",
        "print(\"Selected activities (recursive approach):\", get_max_activities_recursive(activities))\n"
      ]
    },
    {
      "cell_type": "markdown",
      "metadata": {
        "id": "eZe27u4LHHMn"
      },
      "source": [
        "2. Write a program using a iterative greedy approach to get the maximun number of activities (`50 points`)"
      ]
    },
    {
      "cell_type": "code",
      "execution_count": 2,
      "metadata": {
        "vscode": {
          "languageId": "plaintext"
        },
        "id": "UrSZyQwEHHMn",
        "outputId": "6026b951-c703-4e38-b7a8-a10a4479a6ee",
        "colab": {
          "base_uri": "https://localhost:8080/"
        }
      },
      "outputs": [
        {
          "output_type": "stream",
          "name": "stdout",
          "text": [
            "Selected activities (iterative approach): [(1, 4), (5, 7), (8, 11), (12, 14)]\n"
          ]
        }
      ],
      "source": [
        "def get_max_activities_iterative(activities):\n",
        "    # Sort activities by their finish time\n",
        "    sorted_activities = sorted(activities, key=lambda x: x[1])\n",
        "\n",
        "    # The first activity is always selected\n",
        "    selected_activities = [sorted_activities[0]]\n",
        "    last_end_time = sorted_activities[0][1]\n",
        "\n",
        "    for i in range(1, len(sorted_activities)):\n",
        "        if sorted_activities[i][0] >= last_end_time:\n",
        "            selected_activities.append(sorted_activities[i])\n",
        "            last_end_time = sorted_activities[i][1]\n",
        "\n",
        "    return selected_activities\n",
        "\n",
        "# Example usage\n",
        "activities = [(1, 4), (3, 5), (0, 6), (5, 7), (3, 8), (5, 9), (6, 10), (8, 11), (8, 12), (2, 13), (12, 14)]\n",
        "print(\"Selected activities (iterative approach):\", get_max_activities_iterative(activities))\n"
      ]
    }
  ],
  "metadata": {
    "colab": {
      "provenance": []
    },
    "kernelspec": {
      "display_name": "base",
      "language": "python",
      "name": "python3"
    },
    "language_info": {
      "codemirror_mode": {
        "name": "ipython",
        "version": 3
      },
      "file_extension": ".py",
      "mimetype": "text/x-python",
      "name": "python",
      "nbconvert_exporter": "python",
      "pygments_lexer": "ipython3",
      "version": "3.9.6"
    }
  },
  "nbformat": 4,
  "nbformat_minor": 0
}